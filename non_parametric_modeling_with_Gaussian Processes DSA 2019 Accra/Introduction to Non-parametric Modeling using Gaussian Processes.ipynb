{
 "cells": [
  {
   "cell_type": "markdown",
   "metadata": {},
   "source": [
    "<img src=\"dsa.png\" alt=\"Drawing\" />\n",
    "\n",
    "## Introduction to Non-Parametric Modeling (Regression) using Gaussian Processes\n",
    "### Data Science Africa, 2019 Accra\n",
    "By `Charles I. Saidu` charles.i.saidu@gmail.com\n",
    "\n",
    "**Affiliations**\n",
    "- Baze University Abuja, www.bazeuniversity.edu.ng\n",
    "- African University of Science and Technology, www.aust.edu.ng"
   ]
  },
  {
   "cell_type": "markdown",
   "metadata": {},
   "source": [
    "### Data Modeling\n",
    "\n",
    "<img src=\"realworld.png\" alt=\"Drawing\" style=\"width: 50%; height:50%\"/>\n",
    "\n",
    "- In the real, there is a function $f(x)$\n",
    "- We try to learn this function $f(x)$ using data \n",
    "- However, observation process is often time corrupted by noise for each sample $x_i$ such as \n",
    "    - $ y = f(x) + \\varepsilon $, $ \\varepsilon \\sim \\mathcal{N}(0, \\sigma^2)$\n",
    "- **Problem**: find $f(x)$\n"
   ]
  },
  {
   "cell_type": "markdown",
   "metadata": {},
   "source": [
    "## Latent Variable Models - Parametric Approach\n",
    "\n",
    "- **The problem**: to find $f(x)$ \n",
    "  <img src=\"function_estimate.png\" alt=\"Drawing\" style=\"width: 50%; height:50%\"/>\n",
    "    \n",
    "- Approach:\n",
    "    - We collect dataset\n",
    "    - Assume an `approximating` function class\n",
    "        - Polynomial\n",
    "        - Fourier expansion\n",
    "        - Wavelet\n",
    "        - Neural Networks\n",
    "        - etc\n",
    "- With a given function from the function class, optimize the parameters\n",
    "- Observation process - **encodes** noise in system\n"
   ]
  },
  {
   "cell_type": "markdown",
   "metadata": {},
   "source": [
    "## Latent Variable Model II (Parametric Approach)\n",
    "- Collect Data: $(x,y)$\n",
    "- Lets consider a class of polynomials $ f^*(x) = \\Phi(x)^T w $\n",
    "\n",
    "- $\\Phi(x)^T = [1, x, x^2, ....x^{k+1}]$, known as the `basis` function\n",
    "- $w \\in \\mathcal{R}^{k+1}$, $x \\in \\mathcal{R}^n$\n",
    "- $n$ number of features in $x$   \n",
    "- $k$ is the order of the polynomial, \n",
    "- Approximating $f$ with function class $f^*$ implies finding $w$\n",
    "- Possible options\n",
    "    - Define a loss $\\mathcal{L}(f(x), w)$ and optimize via Maximum Likelihood\n",
    "        - $ w^* = \\displaystyle \\min_w \\mathcal{L}(f(x), w)$\n",
    "    - Find a `posterior distribution` of $w$ by assuming a `prior` over $w$ via `Bayes rule`\n"
   ]
  },
  {
   "cell_type": "markdown",
   "metadata": {},
   "source": [
    "## Example\n",
    "- Assume True function $f(x) = xsin(x)$\n",
    "- However, due to noise $e$ in data collection  we instead observed,\n",
    "- $y = f(x) + e$, $e \\sim \\mathcal{N}(0, \\sigma^2)$\n",
    "\n"
   ]
  },
  {
   "cell_type": "code",
   "execution_count": 1,
   "metadata": {},
   "outputs": [
    {
     "data": {
      "text/plain": [
       "<mtrand.RandomState at 0x7f8d57c028b8>"
      ]
     },
     "execution_count": 1,
     "metadata": {},
     "output_type": "execute_result"
    }
   ],
   "source": [
    "import pandas as pd\n",
    "import matplotlib.pyplot as plt\n",
    "%matplotlib inline\n",
    "import numpy as np\n",
    "\n",
    "np.random.RandomState(1)"
   ]
  },
  {
   "cell_type": "code",
   "execution_count": 2,
   "metadata": {},
   "outputs": [],
   "source": [
    "#assume true function plus noise i.e. data collected is noisy \n",
    "def f_noisy(x):\n",
    "    return x*np.sin(x) + np.random.rand(x.shape[0])"
   ]
  },
  {
   "cell_type": "code",
   "execution_count": 3,
   "metadata": {},
   "outputs": [
    {
     "data": {
      "text/plain": [
       "<matplotlib.collections.PathCollection at 0x7f8d578ca128>"
      ]
     },
     "execution_count": 3,
     "metadata": {},
     "output_type": "execute_result"
    },
    {
     "data": {
      "image/png": "[encoded data removed]",
      "text/plain": [
       "<Figure size 432x288 with 1 Axes>"
      ]
     },
     "metadata": {
      "needs_background": "light"
     },
     "output_type": "display_data"
    }
   ],
   "source": [
    "x= np.linspace(-5,5, 25)\n",
    "y = f_noisy(x)\n",
    "plt.scatter(x,y)"
   ]
  },
  {
   "cell_type": "code",
   "execution_count": 4,
   "metadata": {},
   "outputs": [],
   "source": [
    "#package as a dataset\n",
    "dataset = np.vstack((x,y)).T"
   ]
  },
  {
   "cell_type": "markdown",
   "metadata": {},
   "source": [
    "## Visualization\n",
    "- In reality data will be high dimensional, you wont be `able` to visualize very high dimensional data\n",
    "`directly` to understand the structure\n",
    "- For the sake of this tutorial lets visualize the data\n"
   ]
  },
  {
   "cell_type": "code",
   "execution_count": 5,
   "metadata": {},
   "outputs": [
    {
     "data": {
      "text/plain": [
       "<matplotlib.legend.Legend at 0x7f8d57829ba8>"
      ]
     },
     "execution_count": 5,
     "metadata": {},
     "output_type": "execute_result"
    },
    {
     "data": {
      "image/png": "[encoded data removed]",
      "text/plain": [
       "<Figure size 432x288 with 1 Axes>"
      ]
     },
     "metadata": {
      "needs_background": "light"
     },
     "output_type": "display_data"
    }
   ],
   "source": [
    "x = dataset[:, 0]\n",
    "y = dataset[:,1]\n",
    "\n",
    "#Visualize again to be sure\n",
    "plt.scatter(x, y,  label ='Data')\n",
    "plt.legend()"
   ]
  },
  {
   "cell_type": "markdown",
   "metadata": {},
   "source": [
    "## Estimating $f(x)$ from data using polynomials of degree k\n",
    "### Parametric Parameter estimation\n",
    "\n",
    "- Lets estimate $f(x)$ using `Linear Regression`\n",
    "- For non-linearity we project data to higher dimensional space set $k>2$ \n"
   ]
  },
  {
   "cell_type": "code",
   "execution_count": 6,
   "metadata": {},
   "outputs": [],
   "source": [
    "from sklearn import linear_model\n",
    "from sklearn.linear_model import Ridge\n",
    "from sklearn.preprocessing import PolynomialFeatures\n",
    "from sklearn.pipeline import make_pipeline\n",
    "from sklearn.metrics import mean_squared_error\n",
    "from itertools import cycle\n",
    "import matplotlib;matplotlib.rcParams['figure.figsize'] = (16,12)\n"
   ]
  },
  {
   "cell_type": "code",
   "execution_count": 7,
   "metadata": {},
   "outputs": [],
   "source": [
    "import ipywidgets as widgets\n",
    "from ipywidgets import interact"
   ]
  },
  {
   "cell_type": "code",
   "execution_count": 8,
   "metadata": {},
   "outputs": [],
   "source": [
    "def demo_linear(degree=1): \n",
    "    \n",
    "    #little data preprocessing    \n",
    "    x= dataset[:, 0]\n",
    "    y = dataset[:, 1]    \n",
    "\n",
    "    # zero mean and unit variance output y\n",
    "    y -= y.mean()\n",
    "    y/=y.std()\n",
    "\n",
    "\n",
    "    #separate data for interpolation and Extrapolation\n",
    "    start_training_series = int(.2*len(x)) \n",
    "    end_training_series = int(.8*len(x))\n",
    "    x_eval = x[start_training_series:end_training_series]\n",
    "    y_eval = y[start_training_series:end_training_series]\n",
    "    train_index = np.random.choice(len(x_eval), int(.7 *len(x_eval)), replace=False )  #select 70 percent for training\n",
    "\n",
    "    x_train = x_eval[train_index]\n",
    "    y_train = y_eval[train_index]\n",
    "\n",
    "    x = np.expand_dims(x, 1)\n",
    "    x_train = np.expand_dims(x_train, 1)\n",
    "    x_eval = np.expand_dims(x_eval, 1)\n",
    "    \n",
    "    \n",
    "    # non-linear feature transforms with linear regression\n",
    "    model = make_pipeline(PolynomialFeatures(degree), linear_model.LinearRegression()) \n",
    "    model.fit(x_train, y_train)\n",
    "    \n",
    "    plt.ylim(-3, 3)\n",
    "    plt.xlim(-5,5)\n",
    "\n",
    "    plt.scatter(x,y, c='gray', label=\"Test Points\")\n",
    "    plt.scatter(x_train, y_train, c ='red', label =\"Training Points\")\n",
    "    \n",
    "    model_all = model.predict(x)\n",
    "    plt.plot(x, model_all, label =\"All points with pol degree %d\"%(degree))    \n",
    "\n",
    "    plt.axvspan(x[0],x[start_training_series],alpha=0.3,color='gray')\n",
    "    plt.axvspan(x[end_training_series],x[-1],alpha=0.3,color='gray')\n",
    "    plt.legend()"
   ]
  },
  {
   "cell_type": "code",
   "execution_count": 9,
   "metadata": {},
   "outputs": [
    {
     "data": {
      "application/vnd.jupyter.widget-view+json": {
       "model_id": "86c7a6a7896d4dba9a02f5dbd1802300",
       "version_major": 2,
       "version_minor": 0
      },
      "text/plain": [
       "interactive(children=(Dropdown(description='degree', options=(1, 2, 3, 4, 5, 6, 7, 8, 9, 10, 11, 12, 13, 14, 1…"
      ]
     },
     "metadata": {},
     "output_type": "display_data"
    },
    {
     "data": {
      "text/plain": [
       "<function __main__.demo_linear(degree=1)>"
      ]
     },
     "execution_count": 9,
     "metadata": {},
     "output_type": "execute_result"
    }
   ],
   "source": [
    "interact(demo_linear, degree = widgets.Dropdown(options=np.arange(1,20), value = 1))"
   ]
  },
  {
   "cell_type": "markdown",
   "metadata": {},
   "source": [
    "## Observations\n",
    "- No uncertainty information in model\n",
    "- Observe that in extrapolated points, we cant estimate how confident we are about prediction. Clearly we got predictions totally wrong in same cases.\n",
    "- This approach assumes a `fixed` number of  model parameter. So number of parameters `does not` grow with increasing data\n",
    "    - This is whats referred to as `Parametric Models`\n",
    "- Model structure is specified (via the choice of `function class`) before observing data, hence its less flexible\n",
    "- Higher degree leads to overfitting"
   ]
  },
  {
   "cell_type": "markdown",
   "metadata": {},
   "source": [
    "## Parameter Estimation via Bayes Rule (Bayesian approach)\n",
    "### Bayesian Parametric Models"
   ]
  },
  {
   "cell_type": "markdown",
   "metadata": {},
   "source": [
    "- Recall\n",
    "- $f(x) = \\Phi(x)^T w$\n",
    "- $y = f(x) + \\epsilon$ , $\\epsilon \\sim \\mathcal{N}(0,\\sigma^2)$\n",
    "- $x \\in \\mathcal{R}^D $, $D$ dimensional space\n",
    "\n",
    "\n",
    "- Let assume observation corrupted by random noise $\\epsilon$\n",
    "- For convenience lets write $\\Phi(X)$ as $\\Phi$ and $\\Phi(X^*)$ as $\\Phi^*$ \n",
    "\n",
    "\n",
    "**Likelihood Function**\n",
    "- This noise assumption together with the model directly gives rise to the likelihood, the probability density     of the observations given the parameters, which is\n",
    "\n",
    "$$ p(\\mathbf{y}|\\mathbf{X}, w) = \\prod_{i=1}^n p(y_i|\\phi_i, w_i)  \\implies \\mathcal{N}(\\Phi^T \\mathbf{w}, σ^2I)$$ \n",
    "\n",
    "\n",
    "- $\\mathbf{X}$ is the collection of the entire training dataset\n",
    "- $\\mathbf{y}$ entire training label\n",
    "- Assume a Gaussian Prior $ \\mathbf{w} \\sim \\mathcal{N}(\\mathbf{0}, \\Sigma_p)$\n",
    "- Using base rule we compute the `posterior distribution` $\\mathbf{w}$\n",
    "\n",
    "$$ p(\\mathbf{W}\\mid\\mathbf{X},\\mathbf{y}) = \\frac{p(\\mathbf{y}\\mid\\mathbf{X},\\mathbf{w}) \\, p(\\mathbf{w})}{ \\int p(\\mathbf{y} \\mid \\mathbf{X}, \\mathbf{w}) d(\\mathbf{w})} $$\n",
    "\n",
    "- $p(\\mathbf{y}|\\mathbf{X}, \\mathbf{w})$ is the likelihood of data given the parameter\n",
    "- $p(\\mathbf{w})$ Prior distribution of the parameter $w$\n",
    "- $p(\\mathbf{w}|\\mathbf{X}, \\mathbf{y})$ Posterior distribution of parameter given the data\n",
    "- $\\int p(\\mathbf{y} \\mid \\mathbf{X}, \\mathbf{w}) d(\\mathbf{w})$ Marginal distribution of dataset average over parameters $\\mathbf{w}$\n",
    "\n",
    "\n",
    "### Inference\n",
    "\n",
    "- Inference is done using the posterior distribution\n",
    "\n",
    "$$p(\\mathbf{y^*}|\\mathbf{X}^*,\\mathbf{X}, \\mathbf{y} ) = \\int\n",
    "p(\\mathbf{y^*}| \\mathbf{X}^*, \\mathbf{X},\\mathbf{y},\\mathbf{w})p(\\mathbf{w} \\mid p(\\mathbf{W}\\mid\\mathbf{X},\\mathbf{y}) dw.$$\n",
    "\n",
    "## Note\n",
    "- For non-gaussian likelihood and prior, close form solution to posterior `may not` be feasible hence, approximations needed\n",
    "    - Variational Methods\n",
    "    - Laplace\n",
    "    - Sampling via Dropouts - in the case of Neural Networks"
   ]
  },
  {
   "cell_type": "markdown",
   "metadata": {},
   "source": [
    "## Bayesian parameter Estimation for parametric Models\n",
    "\n",
    "\n",
    "- $ p(\\mathbf{y}|\\mathbf{X},\\mathbf{w}) = \\mathcal{N}(\\Phi^T \\mathbf{w}, σI)$ \n",
    "- Assume `prior` distribution of $p(\\mathbf{w}) = \\mathcal{N}(\\mathbf{0}, \\Sigma)$\n",
    "- Close form solution is feasible, hence\n",
    "- Then posterior can be written as by `Bayes rule`. \n",
    "    - $p(\\mathbf{W}\\mid\\mathbf{X},\\mathbf{y}) \\approx \\mathcal{N}(\\Phi^T \\mathbf{w}, σ_nI)\\mathcal{N}(\\mathbf{0}, \\Sigma_p)$ \n",
    "        - **approximation** because we didnt take into account the `intractable` marginal\n",
    "- `Inference` is straight forward\n",
    "    - $p(\\mathbf{y^*}|\\mathbf{X}^*, \\mathbf{X}, \\mathbf{y}) = \\mathcal{N}(σ_n^{-1}\\Phi^{*T}\\mathbf{A}^{-1}\\Phi\\mathbf{y}, \\Phi^{*T}\\mathbf{A}^{-1} \\Phi^{*} ) \\implies   \\int\n",
    "p(\\mathbf{y^*}| \\mathbf{X}^*, \\mathbf{X},\\mathbf{y},\\mathbf{w})p(\\mathbf{w} \\mid p(\\mathbf{W}\\mid\\mathbf{X},\\mathbf{y}) dw$\n",
    "\n",
    "- where $\\mathbf{A} = σ_n^{-2}\\Phi\\Phi^T + \\Sigma^{-1}$\n",
    "\n",
    "## Note\n",
    "\n",
    "- Observa $\\Phi\\Phi^T$, which is a covariance of projected feature space. We can call it `Kernel` $K$\n"
   ]
  },
  {
   "cell_type": "markdown",
   "metadata": {},
   "source": [
    "## Demo: Bayesian vs Non-Bayesian Parameter estimation\n",
    "Lets Compare `Bayesian` vs a `Non-Bayesian` method"
   ]
  },
  {
   "cell_type": "code",
   "execution_count": 10,
   "metadata": {},
   "outputs": [],
   "source": [
    "def demo_bayesian(degree=1):    \n",
    "    #little data preprocessing    \n",
    "    x= dataset[:, 0]\n",
    "    y = dataset[:, 1]    \n",
    "\n",
    "    # zero mean and unit variance output y\n",
    "    y -= y.mean()\n",
    "    y/=y.std()\n",
    "\n",
    "    #separate data for interpolation and Extrapolation\n",
    "    start_training_series = int(.2*len(x)) \n",
    "    end_training_series = int(.8*len(x))\n",
    "    x_eval = x[start_training_series:end_training_series]\n",
    "    y_eval = y[start_training_series:end_training_series]\n",
    "    train_index = np.random.choice(len(x_eval), int(.7 *len(x_eval)), replace=False )  #select 70 percent for training\n",
    "\n",
    "    x_train = x_eval[train_index]\n",
    "    y_train = y_eval[train_index]\n",
    "\n",
    "    x = np.expand_dims(x, 1)\n",
    "    x_train = np.expand_dims(x_train, 1)\n",
    "    x_eval = np.expand_dims(x_eval, 1)\n",
    "\n",
    "    \n",
    "    #Gineralized linear regression model\n",
    "    model_lin_reg = make_pipeline(PolynomialFeatures(degree), linear_model.LinearRegression()) #regular regression\n",
    "    model_lin_reg.fit(x_train, y_train)\n",
    "    model_predict_lin = model_lin_reg.predict(x)\n",
    "    \n",
    "    plt.figure(figsize=(15,4))\n",
    "    plt.suptitle(\"Generalized Linear Regression via (MLE) vs Bayesian Regression\")    \n",
    "    plt.subplot(1,2,1)\n",
    "    plt.plot(x, model_predict_lin, label =\"Regular Regression Pol fit with degree %d\"%(degree))\n",
    "    plt.ylim(-3, 3)\n",
    "    plt.xlim(-5,5)\n",
    "    plt.scatter(x,y, c='gray', label=\"Test Points\")\n",
    "    plt.scatter(x_train, y_train, c ='red', label=\"Training Points\")\n",
    "    plt.axvspan(x[0],x[start_training_series],alpha=0.3,color='gray')\n",
    "    plt.axvspan(x[end_training_series],x[-1],alpha=0.3,color='gray')\n",
    "    plt.legend()\n",
    "    \n",
    "    #Bayesian Regression\n",
    "    plt.subplot(1,2,2)     \n",
    "    model_bayesian = make_pipeline(PolynomialFeatures(degree), linear_model.BayesianRidge()) \n",
    "    model_bayesian.fit(x_train, y_train)  \n",
    "    plt.ylim(-3, 3)\n",
    "    plt.xlim(-5,5)\n",
    "\n",
    "    plt.scatter(x,y, c='gray', label=\"Test Points\")\n",
    "    plt.scatter(x_train, y_train, c ='red', label=\"Training Points\")\n",
    "    \n",
    "    mean, std = model_bayesian.predict(x, return_std=True)\n",
    "    \n",
    "    plt.plot(x, mean, label =\"Bayesian Regression Pol fit with degree %d\"%(degree))\n",
    "    plt.fill_between(x[:,0], mean-std, mean+std, alpha=0.2, edgecolor='gray', facecolor='cyan')\n",
    "\n",
    "    \n",
    "    plt.axvspan(x[0],x[start_training_series],alpha=0.3,color='gray')\n",
    "    plt.axvspan(x[end_training_series],x[-1],alpha=0.3,color='gray')\n",
    "    plt.legend()"
   ]
  },
  {
   "cell_type": "code",
   "execution_count": 11,
   "metadata": {},
   "outputs": [
    {
     "data": {
      "application/vnd.jupyter.widget-view+json": {
       "model_id": "8935e5f877864038b4122e0eda7cedfc",
       "version_major": 2,
       "version_minor": 0
      },
      "text/plain": [
       "interactive(children=(Dropdown(description='degree', options=(1, 2, 3, 4, 5, 6, 7, 8, 9, 10, 11, 12, 13, 14, 1…"
      ]
     },
     "metadata": {},
     "output_type": "display_data"
    },
    {
     "data": {
      "text/plain": [
       "<function __main__.demo_bayesian(degree=1)>"
      ]
     },
     "execution_count": 11,
     "metadata": {},
     "output_type": "execute_result"
    }
   ],
   "source": [
    "interact(demo_bayesian, degree = widgets.Dropdown(options=np.arange(1,20), value = 1))"
   ]
  },
  {
   "cell_type": "markdown",
   "metadata": {},
   "source": [
    "**Observations:**\n",
    "- We now have a `distribution` over weights $\\mathbf{w}$ as opposed to `single` optimal $\\mathbf{w}$ \n",
    "- Availability of uncertainty quantification because of the distribution of weight\n",
    "\n",
    "\n",
    "**Advantages of this approach:**\n",
    "\n",
    "- `Natural reguralization`(You can check this yourself), hence `less` prone to overfitting. Bayesian is good!\n",
    "- Uncertainty estimates\n",
    "\n",
    "**Not so nice:**\n",
    "- Uncertainties quantifications determined by  number of parameters, choice of which is difficult to choose\n",
    "- Can be `overconfident` at extrapolation points\n",
    "- Still fixed number of parameters, less adaptation given growing size of data. \n",
    "- model structure still need to be specified prior to seeing the data"
   ]
  },
  {
   "cell_type": "markdown",
   "metadata": {},
   "source": [
    "## Non Parametric Modeling (Regression) with Gaussian Processes\n",
    "\n",
    "\n",
    "### Note\n",
    "- `DOES NOT` mean there are no parameters\n",
    "- Simply means model scale parameters scale with more data\n",
    "- Better uncertainty quantification\n"
   ]
  },
  {
   "cell_type": "markdown",
   "metadata": {},
   "source": [
    "### What is a Gaussian Process?\n",
    "\n",
    "A Gaussian process (GP) is a collection of random variables, any finite number of which have a joint Gaussian distribution.\n",
    "\n",
    "Equivalently, a GP can be seen as a stochastic process which corresponds to an infinite dimensional Gaussian distribution.\n",
    "\n",
    "**Basic Assumption**\n",
    "-  Function output points $f(x)$ whose `indexed` input sets $X$ closer in space are highly **Correlated**. And this correlation is defined by a `mean` function $\\mu(\\mathbf{x})$ and correlation matrix $K(\\mathbf{x}, \\mathbf{x})$ referred to as a `kernel`\n"
   ]
  },
  {
   "cell_type": "markdown",
   "metadata": {},
   "source": [
    "## Marginalization and conditioning properties of the Gaussian"
   ]
  },
  {
   "cell_type": "markdown",
   "metadata": {},
   "source": [
    "### Joint\n",
    "\n",
    "Let's start with a multivariate Gaussian. Assume that we have a random variable $\\mathbf{f}$ which follows a multivariate Gaussian, and we partition its dimensions into two sets, $A,B$. Then, the joint distribution can be written as:\n",
    "$$\n",
    "p(\\underbrace{f_1, f_2, \\cdots, f_s}_{\\mathbf{f}_A}, \\underbrace{f_{s+1}, f_{s+2}, \\cdots, f_N}_{\\mathbf{f}_B}) \\sim \\mathcal{N}(\\boldsymbol \\mu, \\mathbf{K}).\n",
    "$$\n",
    "with:\n",
    "$$\n",
    "\\boldsymbol \\mu = \n",
    "    \\begin{bmatrix}\n",
    "        \\boldsymbol \\mu_A \\\\\n",
    "      \\boldsymbol \\mu_B\n",
    "    \\end{bmatrix}\n",
    "  \\; \\; \\text{and} \\; \\;\n",
    "    \\mathbf{K} = \n",
    "    \\begin{bmatrix}\n",
    "         \\mathbf{K}_{A A} & \\mathbf{K}_{A B} \\\\\n",
    "         \\mathbf{K}_{B A} & \\mathbf{K}_{B B}\n",
    "    \\end{bmatrix}\n",
    "$$\n",
    "\n",
    "### Marginal\n",
    "\n",
    "And the *marginal* distribution can be written as:\n",
    "\n",
    "$$\n",
    "p(\\mathbf{f}_A, \\mathbf{f}_B)  \\sim \\mathcal{N}(\\boldsymbol \\mu, \\mathbf{K}). \\text{ Then:} \\\\\n",
    "p(\\mathbf{f}_A)  = \\int_{\\mathbf{f}_B} p(\\mathbf{f}_A, \\mathbf{f}_B) \\text{d} \\mathbf{f}_B =\n",
    "       \\mathcal{N}(\\boldsymbol \\mu_A, \\mathbf{K}_{A A}) %\\\\\n",
    "% p(\\mathbf{f}_B)  = \\int_{\\mathbf{f}_A} p(\\mathbf{f}_A, \\mathbf{f}_B) \\text{d} \\mathbf{f}_A = \n",
    "%        \\mathcal{N}(\\boldsymbol \\mu_B,\\mathbf{K}_{B B})\n",
    "$$\n",
    "\n",
    "The marginalization property means that the training data that have and any (potentially infinite in number) test data $f_*$ that we have not seen (yet), follow a (potentially infinite) Gaussian distribution with mean and covariance:\n",
    "\n",
    "$$\n",
    "  \\boldsymbol \\mu_{\\infty} = \n",
    "    \\begin{bmatrix}\n",
    "      \\boldsymbol \\mu_{\\!_\\mathbf{X}} \\\\\n",
    "      \\cdots \\\\\n",
    "      \\cdots\n",
    "    \\end{bmatrix}\n",
    "  \\; \\; \\text{and} \\; \\;\n",
    "    \\mathbf{K}_{\\infty} = \n",
    "    \\begin{bmatrix}\n",
    "      \\mathbf{K}_{\\!_\\mathbf{X} \\!_\\mathbf{X}} & \\cdots \\\\\n",
    "      \\cdots & \\cdots\n",
    "    \\end{bmatrix}\n",
    "$$\n",
    "\n",
    "where $\\mathbf{X}$ is training inputs and $\\mathbf{K}_{XX}$ is the covariance matrix constructing by evaluating the covariance *function* at all given inputs. \n",
    "\n",
    "So, in the Gaussian process case (assuming 0 mean) we have a joint Gaussian distribution of the training and the (potentially infinite!) test data:\n",
    "\n",
    "$$\n",
    "\\begin{bmatrix}\\mathbf{f} \\\\ \\mathbf{f}^*\\end{bmatrix} \\sim \\mathcal{N}\\left(\\mathbf{0}, \\begin{bmatrix} \\mathbf{K} & \\mathbf{K}_\\ast \\\\ \\mathbf{K}_\\ast^\\top & \\mathbf{K}_{\\ast,\\ast}\\end{bmatrix}\\right)\n",
    "$$\n",
    "\n",
    "Here, $\\mathbf{K}_\\ast$ is the (cross)-covariance matrix obtained by evaluating the covariance function in pairs of training inputs $\\mathbf{X}$ and test inputs $\\mathbf{X_*}$, ie.\n",
    "\n",
    "$$\n",
    "\\mathbf{K}_\\ast = k(\\mathbf{X}, \\mathbf{X}_*) .\n",
    "$$\n",
    "\n",
    "Similarly:\n",
    "\n",
    "$$\n",
    "\\mathbf{K}_{\\ast\\ast} = k(\\mathbf{X}_*, \\mathbf{X}_*) .\n",
    "$$"
   ]
  },
  {
   "cell_type": "markdown",
   "metadata": {},
   "source": [
    "### Conditional \n",
    "\n",
    "Interestingly, conditioning a multivariate Gaussian to obtain the posterior distribution also yields a Gaussian:\n",
    "Again, if\n",
    "$$\n",
    "p(\\mathbf{f}_A, \\mathbf{f}_B)  \\sim \\mathcal{N}(\\boldsymbol \\mu, \\mathbf{K}). \\; \\; \\text{Then:} \\\\\n",
    "p(\\mathbf{f}_A | \\mathbf{f}_B) = \\mathcal{N}(\\boldsymbol \\mu_A + \\mathbf{K}_{AB} \\mathbf{K}^{-1}_{BB} (\\mathbf{f}_B - \\boldsymbol \\mu_B), \\mathbf{K}_{AA} - \\mathbf{K}_{AB}\\mathbf{K}_{BB}^{-1}\\mathbf{K}_{BA})% \\\\\n",
    "% p(\\mathbf{f}_B | \\mathbf{f}_A) = \\mathcal{N}(\\cdots, \\cdots)\n",
    "$$\n",
    "\n",
    "In the GP context this can be used for inter/extrapolation. Assume that we have a function $f$ with input domain $\\mathcal{X} = \\mathbb{R}$ and we set a GP prior on $f$ (so, now we use $f$ to denote function evaluations, rather than random variables). Also assume that we have a training set $\\mathbf{X} = [x_1, x_2, \\dots x_N]$. Then, we can condition on the function ouputs evaluated on the training set in order to perform inference for the function value at *any* input location $x_* \\in \\mathbb{R}$. This conditioning means finding the GP posterior *process*:\n",
    "\n",
    "$$\n",
    "p(\\mathbf{f_*} | \\mathbf{f_1}, \\cdots, \\mathbf{f_N}) = \n",
    "p(f(x_*) | f(x_1), \\cdots, f(x_N)) \\\\\n",
    "         \\sim \\mathcal{N}(\\mathbf{K}_*^\\top \\mathbf{K}^{-1} \\mathbf{f}\\; , \\; \\mathbf{K}_{*,*} - \\mathbf{K}_*^\\top \\mathbf{K}^{-1} \\mathbf{K}_*)\n",
    "$$\n",
    "\n",
    "Remember, the test inputs $\\mathbf{X}_*$ appear in the above expression inside $\\mathbf{K}_*$ and $\\mathbf{K}_{**}$."
   ]
  },
  {
   "cell_type": "markdown",
   "metadata": {},
   "source": [
    "## Noise model"
   ]
  },
  {
   "cell_type": "markdown",
   "metadata": {},
   "source": [
    "As is standard in probabilistic regression, we assume a noise model. We take:\n",
    "\n",
    "$$\n",
    "y = f(x) + \\epsilon\n",
    "$$\n",
    "\n",
    "\n",
    "where:\n",
    "\n",
    "$$\n",
    "f \\sim \\mathcal{GP}(0, k(x,x'))\n",
    "$$\n",
    "\n",
    "and\n",
    "\n",
    "$$\n",
    "\\epsilon \\sim \\mathcal{N}(0,\\sigma^2 I) \\; \\; \\; \\; \\; \\; \\; \\; \\; (1)\n",
    "$$\n",
    "\n",
    "where non-bold symbols now denote single elements from the training vectors.\n",
    "\n",
    "The *covariance function* $k(x,x')$ is a function which takes as inputs pairs in the input domain and returns their co-variance. By denoting $k(\\mathbf{X},\\mathbf{X})$ we mean that we evaluate the covariance function in the whole training set, $\\mathbf{X}$, and this gives us back a covariance matrix.\n",
    "\n",
    "The assumption about Gaussian noise says that the *training data* $(x,y) \\in (\\mathbf{X}, \\mathbf{Y})$ are related by a function $f$ whose output is then corrupted by Gaussian noise (i.e. we have noisy observations).\n",
    "The above construction, gives us the following probabilities:\n",
    "\\begin{equation}\n",
    "p(\\mathbf{y}|\\mathbf{f}) = \\mathcal{N}(\\mathbf{y}|\\mathbf{f}, \\sigma^2 \\mathbf{I}) \n",
    "\\end{equation}\n",
    "\n",
    "$$\n",
    "p(\\mathbf{f}|\\mathbf{x}) = \\mathcal{N}(\\mathbf{f}|\\mathbf{0}, K_{ff}) = (2 \\pi)^{n/2} |K_{ff}|^{-1/2} \\exp\\left( -\\frac{1}{2} \\mathbf{f}^T K_{ff} \\mathbf{f} \\right) \\text{where:} K_{ff} = k(\\mathbf{x},\\mathbf{x}) \\; \\; \\; \\; (2)\n",
    "$$\n",
    "\n",
    "$$\n",
    "p(\\mathbf{y}|\\mathbf{x}) = \\int p(\\mathbf{y}|\\mathbf{f})p(\\mathbf{f}|\\mathbf{x}) d\\mathbf{f} = \\mathcal{N}(\\mathbf{y}|\\mathbf{0},K_{ff}+\\sigma^{2} \\mathbf{I}) \\; \\; \\; \\; (3)\n",
    "$$\n",
    "where the last quantity is called the *marginal likelihood* and is tractable because of our choice for noise $\\epsilon$ which is normally distributed.\n",
    "\n",
    "\n",
    "\n",
    "## Predictions\n",
    "Now, for a test point $x_*$ we want to compute its output on the observed space, i.e. we want to compute $y_*$. Building on the noise model and the previously shown expressions, the posterior for the test outputs is given by:\n",
    "\n",
    "$$\n",
    "\\mathbf{y}^* | \\mathbf{y}, \\mathbf{x}, \\mathbf{x_*} \\sim \\mathcal{N}(\\boldsymbol \\mu_{\\text{pred}},\\mathbf{K}_{\\text{pred}}) \\; \\; \\; \\; (4)\n",
    "$$\n",
    "with  \n",
    "$$\n",
    "\\boldsymbol \\mu_{\\text{pred}} = \\mathbf{K}_*^\\top \\left[\\mathbf{K} + \\sigma^2 \\mathbf{I}\\right]^{-1} \\mathbf{y}\n",
    "$$\n",
    "and \n",
    "$$\n",
    "\\mathbf{K}_{\\text{pred}} = \\mathbf{K}_{*,*} - \\mathbf{K}_*^\\top \\left[\\mathbf{K} + \\sigma^2 \\mathbf{I}\\right]^{-1} \\mathbf{K}_*.\n",
    "$$"
   ]
  },
  {
   "cell_type": "markdown",
   "metadata": {},
   "source": [
    "# Covariance functions, aka kernels\n",
    "\n",
    "- The covariance matrices encodes our assumption about the GP. \n",
    "- By selecting a covariance function, we implicitly make an assumption about the shape of the function. \n",
    "    - For example, the smoothness can be defined by the covariance $K$  \n",
    "- Even if the covariance function has a parametric form, combined with the GP it gives us a nonparametric model. In other words, the covariance function is specifying the general properties of the GP function we wish to encode, and not a specific parametric form for it.\n",
    "\n",
    "**Example of covariance function: RBF Kernel**\n",
    "\n",
    "Below we define two very common covariance functions: The RBF (also known as Exponentiated Quadratic or Gaussian kernel) which is differentiable infinitely many times (hence, very smooth), and the linear one:\n",
    "$$\n",
    "k_{RBF}(\\mathbf{x}_{i,:},\\mathbf{x}_{j,:}) = \\sigma^2 \\exp \\left( -\\frac{1}{2\\ell^2} \\sum_{d=1}^D (x_{i,d} - x_{j,d})^2\\right)\n",
    "$$\n",
    "- where $D$ denotes the dimensionality of the input space.\n",
    "- Parameters of **RBF** are:\n",
    "    - $\\ell$ is called *lengthscale*\n",
    "    - $\\sigma^2$ is the variance .\n",
    "$$\n"
   ]
  },
  {
   "cell_type": "markdown",
   "metadata": {},
   "source": [
    "## GPy Library\n",
    "- The GPy Library implements Gaussian Process  \n",
    "- Can be installed via pip install GPy"
   ]
  },
  {
   "cell_type": "code",
   "execution_count": 12,
   "metadata": {},
   "outputs": [
    {
     "name": "stdout",
     "output_type": "stream",
     "text": [
      "Requirement already satisfied: GPy in /home/charley/anaconda3/lib/python3.6/site-packages/GPy-1.9.6-py3.6-linux-x86_64.egg (1.9.6)\r\n",
      "Requirement already satisfied: numpy>=1.7 in /home/charley/anaconda3/lib/python3.6/site-packages (from GPy) (1.16.4)\r\n",
      "Requirement already satisfied: scipy>=0.16 in /home/charley/anaconda3/lib/python3.6/site-packages (from GPy) (1.3.1)\r\n",
      "Requirement already satisfied: six in /home/charley/anaconda3/lib/python3.6/site-packages (from GPy) (1.12.0)\r\n",
      "Requirement already satisfied: paramz>=0.9.0 in /home/charley/anaconda3/lib/python3.6/site-packages/paramz-0.9.4-py3.6.egg (from GPy) (0.9.4)\r\n",
      "Requirement already satisfied: decorator>=4.0.10 in /home/charley/anaconda3/lib/python3.6/site-packages (from paramz>=0.9.0->GPy) (4.3.0)\r\n"
     ]
    }
   ],
   "source": [
    "!pip install GPy"
   ]
  },
  {
   "cell_type": "code",
   "execution_count": 13,
   "metadata": {},
   "outputs": [],
   "source": [
    "import GPy #imports GPy library"
   ]
  },
  {
   "cell_type": "code",
   "execution_count": 14,
   "metadata": {},
   "outputs": [],
   "source": [
    "def demo_Gps(degree=1):\n",
    "    #little data preprocessing    \n",
    "    x= dataset[:, 0]\n",
    "    y = dataset[:, 1]    \n",
    "\n",
    "    # zero mean and unit variance output y\n",
    "    y -= y.mean()\n",
    "    y/=y.std()\n",
    "\n",
    "    #separate data for interpolation and Extrapolation\n",
    "    start_training_series = int(.2*len(x)) \n",
    "    end_training_series = int(.8*len(x))\n",
    "    x_eval = x[start_training_series:end_training_series]\n",
    "    y_eval = y[start_training_series:end_training_series]\n",
    "    train_index = np.random.choice(len(x_eval), int(.7 *len(x_eval)), replace=False )  #select 70 percent for training\n",
    "\n",
    "    x_train = x_eval[train_index]\n",
    "    y_train = y_eval[train_index]\n",
    "\n",
    "    x = np.expand_dims(x, 1)\n",
    "    x_train = np.expand_dims(x_train, 1)\n",
    "    x_eval = np.expand_dims(x_eval, 1)    \n",
    "    \n",
    "    #Bayesian Regression\n",
    "    plt.subplot(1,2,1)     \n",
    "    plt.suptitle(\"Generalized Bayesian Regression\")\n",
    "    model_bayesian = make_pipeline(PolynomialFeatures(degree), linear_model.BayesianRidge()) \n",
    "    model_bayesian.fit(x_train, y_train)  \n",
    "    plt.ylim(-3, 3)\n",
    "    plt.xlim(-5,5)\n",
    "\n",
    "    plt.scatter(x,y, c='gray', label=\"Test Points\")\n",
    "    plt.scatter(x_train, y_train, c ='red', label=\"Training Points\")\n",
    "    \n",
    "    mean, std = model_bayesian.predict(x, return_std=True)\n",
    "    \n",
    "    plt.plot(x, mean, label =\"Bayesian Regression Pol fit with degree %d\"%(degree))\n",
    "    plt.fill_between(x[:,0], mean-std, mean+std, alpha=0.2, edgecolor='gray', facecolor='cyan')\n",
    "\n",
    "    \n",
    "    plt.axvspan(x[0],x[start_training_series],alpha=0.3,color='gray')\n",
    "    plt.axvspan(x[end_training_series],x[-1],alpha=0.3,color='gray')\n",
    "    plt.legend()\n",
    "    \n",
    "    \n",
    "    plt.subplot(1,2,2)     \n",
    "    plt.suptitle(\"Gaussian Process regression\")\n",
    "    #--- Fit a GP model and predict inter/extrapolations\n",
    "    y_train = np.expand_dims(y_train,1)\n",
    "    model_gp = GPy.models.GPRegression(x_train, y_train)\n",
    "    K = model_gp.kern.K(x_train, x_train).copy()\n",
    "    model_gp.optimize()\n",
    "    mean_gp, std_gp = model_gp.predict(x)\n",
    "    \n",
    "    plt.ylim(-3, 3)\n",
    "    plt.xlim(-5,5)\n",
    "    plt.scatter(x,y, c='gray', label=\"Test Points\")\n",
    "    plt.scatter(x_train, y_train, c ='red', label=\"Training Points\")\n",
    "    \n",
    "       \n",
    "    plt.plot(x[:, 0], mean_gp[:,0], label =\"Gaussian Process fit\")\n",
    "    plt.fill_between(x[:,0], mean_gp[:,0]-std_gp[:,0], mean_gp[:,0]+std_gp[:,0], alpha=0.2, edgecolor='gray', facecolor='cyan')\n",
    "    \n",
    "    plt.axvspan(x[0],x[start_training_series],alpha=0.3,color='gray')\n",
    "    plt.axvspan(x[end_training_series],x[-1],alpha=0.3,color='gray')\n",
    "    plt.legend()  \n"
   ]
  },
  {
   "cell_type": "code",
   "execution_count": 15,
   "metadata": {},
   "outputs": [
    {
     "data": {
      "application/vnd.jupyter.widget-view+json": {
       "model_id": "bdab632b664643b2a8dd531300ca43a1",
       "version_major": 2,
       "version_minor": 0
      },
      "text/plain": [
       "interactive(children=(Dropdown(description='degree', options=(1, 2, 3, 4, 5, 6, 7, 8, 9, 10, 11, 12, 13, 14, 1…"
      ]
     },
     "metadata": {},
     "output_type": "display_data"
    },
    {
     "data": {
      "text/plain": [
       "<function __main__.demo_Gps(degree=1)>"
      ]
     },
     "execution_count": 15,
     "metadata": {},
     "output_type": "execute_result"
    }
   ],
   "source": [
    "interact(demo_Gps, degree = widgets.Dropdown(options=np.arange(1,20), value = 1))"
   ]
  },
  {
   "cell_type": "markdown",
   "metadata": {},
   "source": [
    "**Observations:**\n",
    "- GPs are better `Calibrated` within and outside extrapolation points. The further away into the extrapolation points the more `uncertain` the prediction\n",
    "- However, for the parametric approach, `uncertainty` information is a function of number of parameters. Therefore can be `overconfident` at the extrapolation points\n",
    "\n",
    "\n",
    "\n",
    "\n",
    "**Advantages of this approach GPs:**\n",
    "\n",
    "- We now have a `distribution` over weights **functions** and necessarily weights \n",
    "- Well `calibrated` uncertainties even at extra-polation points\n",
    "- `Non parametric model` as model complexity scales with data\n",
    "\n",
    "**Some issues and possible solutions:**\n",
    "- Requires to hold entire training set in memory via `kernel`. Therefore inverting the large matrix $K$ is memory and computationally expensive\n",
    "    - However, these `Kernels` can be approximated via methods such as \n",
    "        - `Sparse GP` approximations, etc\n",
    "    - Parallel and distributed computing can also help deal with large $K$\n",
    "- Once has to decide on the choice of Kernel $K$\n",
    "    - However, you can do `Deep Gaussian Processes` to learn these kernels\n"
   ]
  },
  {
   "cell_type": "markdown",
   "metadata": {},
   "source": [
    "## Other Kernels\n",
    "\n",
    "<img src=\"kernels.png\" alt=\"Drawing\" />"
   ]
  },
  {
   "cell_type": "markdown",
   "metadata": {},
   "source": [
    "## Example with Real Dataset"
   ]
  },
  {
   "cell_type": "markdown",
   "metadata": {},
   "source": [
    "Analysis of [AIM-94 ICU Time Series dataset](https://archive.ics.uci.edu/ml/datasets/ICU)"
   ]
  },
  {
   "cell_type": "markdown",
   "metadata": {},
   "source": [
    "Analysis of AIM-94 ICU Time Series dataset\n",
    "\n",
    "Here is the description of the patient that was observed:\n",
    "\n",
    "8.5 month old female with biliary atresia, S/P (surgical procedure) Kasai procedure, ascending cholangitis with a history of multiple liver abscesses and portal hypertension. She was transferred to The Children's Hospital after a 15 day history of E. Coli sepsis, worsening despite antibiotic therapy and other supportive measures. She currently is in liver failure with coagulopathy. She has required mechanical ventilatory support due to the ARDS that followed the onset of sepsis.\n",
    "\n",
    "Her admission body weight is 5 kg.\n",
    "\n",
    "In addition to medications listed in data set, the patient receives:\n",
    "\n",
    "Oral nystatin\n",
    "Ativan 0.5 mg IV every 6 hours\n",
    "Amphotericin bladder irrigation every 12 hours\n",
    "Nebulized ventolin PRN\n",
    "Maalox 10cc by nasogastric tube every 6 hours for gastric pH < 5\n"
   ]
  },
  {
   "cell_type": "code",
   "execution_count": 16,
   "metadata": {},
   "outputs": [],
   "source": [
    "icu_data = pd.read_csv('./Data//aim94_map_data_for_DSA.csv',header=0)"
   ]
  },
  {
   "cell_type": "code",
   "execution_count": 17,
   "metadata": {},
   "outputs": [
    {
     "data": {
      "text/html": [
       "<div>\n",
       "<style scoped>\n",
       "    .dataframe tbody tr th:only-of-type {\n",
       "        vertical-align: middle;\n",
       "    }\n",
       "\n",
       "    .dataframe tbody tr th {\n",
       "        vertical-align: top;\n",
       "    }\n",
       "\n",
       "    .dataframe thead th {\n",
       "        text-align: right;\n",
       "    }\n",
       "</style>\n",
       "<table border=\"1\" class=\"dataframe\">\n",
       "  <thead>\n",
       "    <tr style=\"text-align: right;\">\n",
       "      <th></th>\n",
       "      <th>time_since_start</th>\n",
       "      <th>map</th>\n",
       "    </tr>\n",
       "  </thead>\n",
       "  <tbody>\n",
       "    <tr>\n",
       "      <th>0</th>\n",
       "      <td>20</td>\n",
       "      <td>66</td>\n",
       "    </tr>\n",
       "    <tr>\n",
       "      <th>1</th>\n",
       "      <td>62</td>\n",
       "      <td>67</td>\n",
       "    </tr>\n",
       "    <tr>\n",
       "      <th>2</th>\n",
       "      <td>100</td>\n",
       "      <td>68</td>\n",
       "    </tr>\n",
       "    <tr>\n",
       "      <th>3</th>\n",
       "      <td>120</td>\n",
       "      <td>67</td>\n",
       "    </tr>\n",
       "    <tr>\n",
       "      <th>4</th>\n",
       "      <td>200</td>\n",
       "      <td>68</td>\n",
       "    </tr>\n",
       "  </tbody>\n",
       "</table>\n",
       "</div>"
      ],
      "text/plain": [
       "   time_since_start  map\n",
       "0                20   66\n",
       "1                62   67\n",
       "2               100   68\n",
       "3               120   67\n",
       "4               200   68"
      ]
     },
     "execution_count": 17,
     "metadata": {},
     "output_type": "execute_result"
    }
   ],
   "source": [
    "icu_data.head()"
   ]
  },
  {
   "cell_type": "markdown",
   "metadata": {},
   "source": [
    "Now let's take a look at the patient time series. We'll focus our analysis on mean arterial pressure, the average pressure in a patient’s arteries during one cardiac cycle. The blue region from 35000 seconds up to the end of the time series will be set aside to test the predictions of our model."
   ]
  },
  {
   "cell_type": "code",
   "execution_count": 18,
   "metadata": {},
   "outputs": [
    {
     "data": {
      "image/png": "[encoded data removed]",
      "text/plain": [
       "<Figure size 1080x288 with 1 Axes>"
      ]
     },
     "metadata": {
      "needs_background": "light"
     },
     "output_type": "display_data"
    }
   ],
   "source": [
    "plt.figure(figsize=(15,4))\n",
    "\n",
    "end_of_series = np.max(icu_data.iloc[:,0].values)\n",
    "\n",
    "plt.plot(icu_data.iloc[:,0].values,icu_data.iloc[:,1],'-o',color='r',alpha=0.3,markersize=1)\n",
    "plt.xlabel('Time Since Start (seconds)')\n",
    "plt.ylabel('Mean Arterial Pressure (mm Hg)')\n",
    "plt.axvspan(35000,end_of_series,alpha=0.3,color='blue')\n",
    "\n",
    "plt.show()"
   ]
  },
  {
   "cell_type": "code",
   "execution_count": 19,
   "metadata": {},
   "outputs": [],
   "source": [
    "## split data into training and test set\n",
    "time_since_start = icu_data.iloc[:,0].values\n",
    "map_values = icu_data.iloc[:,1].values\n",
    "\n",
    "# we'll center the map values by substracting the mean\n",
    "map_values = map_values - np.mean(map_values)\n",
    "\n",
    "end_of_train = np.where(time_since_start >= 35000)[0][0]\n",
    "\n",
    "train_X = np.expand_dims(time_since_start[:end_of_train],1)\n",
    "train_Y = np.expand_dims(map_values[:end_of_train],1)\n",
    "test_X = np.expand_dims(time_since_start[end_of_train:],1)\n",
    "test_Y = np.expand_dims(map_values[end_of_train:],1)"
   ]
  },
  {
   "cell_type": "markdown",
   "metadata": {},
   "source": [
    "Now we'll specify our kernel (with default hyperparameter values for now)."
   ]
  },
  {
   "cell_type": "code",
   "execution_count": 20,
   "metadata": {},
   "outputs": [],
   "source": [
    "kernel = GPy.kern.RBF(input_dim=1, variance=1., lengthscale=10.)"
   ]
  },
  {
   "cell_type": "code",
   "execution_count": 21,
   "metadata": {},
   "outputs": [],
   "source": [
    "m = GPy.models.GPRegression(train_X,train_Y,kernel)"
   ]
  },
  {
   "cell_type": "code",
   "execution_count": 22,
   "metadata": {},
   "outputs": [
    {
     "data": {
      "text/html": [
       "<style type=\"text/css\">\n",
       ".pd{\n",
       "    font-family: \"Courier New\", Courier, monospace !important;\n",
       "    width: 100%;\n",
       "    padding: 3px;\n",
       "}\n",
       "</style>\n",
       "\n",
       "<p class=pd>\n",
       "<b>Model</b>: GP regression<br>\n",
       "<b>Objective</b>: 20001.9203647064<br>\n",
       "<b>Number of Parameters</b>: 3<br>\n",
       "<b>Number of Optimization Parameters</b>: 3<br>\n",
       "<b>Updates</b>: True<br>\n",
       "</p>\n",
       "<style type=\"text/css\">\n",
       ".tg  {font-family:\"Courier New\", Courier, monospace !important;padding:2px 3px;word-break:normal;border-collapse:collapse;border-spacing:0;border-color:#DCDCDC;margin:0px auto;width:100%;}\n",
       ".tg td{font-family:\"Courier New\", Courier, monospace !important;font-weight:bold;color:#444;background-color:#F7FDFA;border-style:solid;border-width:1px;overflow:hidden;word-break:normal;border-color:#DCDCDC;}\n",
       ".tg th{font-family:\"Courier New\", Courier, monospace !important;font-weight:normal;color:#fff;background-color:#26ADE4;border-style:solid;border-width:1px;overflow:hidden;word-break:normal;border-color:#DCDCDC;}\n",
       ".tg .tg-left{font-family:\"Courier New\", Courier, monospace !important;font-weight:normal;text-align:left;}\n",
       ".tg .tg-center{font-family:\"Courier New\", Courier, monospace !important;font-weight:normal;text-align:center;}\n",
       ".tg .tg-right{font-family:\"Courier New\", Courier, monospace !important;font-weight:normal;text-align:right;}\n",
       "</style>\n",
       "<table class=\"tg\"><tr><th><b>  GP_regression.         </b></th><th><b>value</b></th><th><b>constraints</b></th><th><b>priors</b></th></tr>\n",
       "<tr><td class=tg-left>  rbf.variance           </td><td class=tg-right>  1.0</td><td class=tg-center>    +ve    </td><td class=tg-center>      </td></tr>\n",
       "<tr><td class=tg-left>  rbf.lengthscale        </td><td class=tg-right> 10.0</td><td class=tg-center>    +ve    </td><td class=tg-center>      </td></tr>\n",
       "<tr><td class=tg-left>  Gaussian_noise.variance</td><td class=tg-right>  1.0</td><td class=tg-center>    +ve    </td><td class=tg-center>      </td></tr>\n",
       "</table>"
      ],
      "text/plain": [
       "<GPy.models.gp_regression.GPRegression at 0x7f8d51d53e10>"
      ]
     },
     "metadata": {},
     "output_type": "display_data"
    }
   ],
   "source": [
    "display(m)"
   ]
  },
  {
   "cell_type": "code",
   "execution_count": 23,
   "metadata": {},
   "outputs": [
    {
     "data": {
      "text/plain": [
       "<matplotlib.patches.Polygon at 0x7f8d51c8f320>"
      ]
     },
     "execution_count": 23,
     "metadata": {},
     "output_type": "execute_result"
    },
    {
     "data": {
      "image/png": "[encoded data removed]",
      "text/plain": [
       "<Figure size 1080x288 with 1 Axes>"
      ]
     },
     "metadata": {
      "needs_background": "light"
     },
     "output_type": "display_data"
    }
   ],
   "source": [
    "plt.figure(figsize=(15,4))\n",
    "#Lets all points between 0 and 40,000  \n",
    "all_x = np.expand_dims(np.linspace(0, 40000, 100), 1)\n",
    "mean_train_y, mean_train_std =  m.predict(all_x)\n",
    "\n",
    "plt.plot(all_x[:,0], mean_train_y[:,0],'-o',color='r',alpha=0.3,markersize=1)\n",
    "plt.fill_between(all_x[:,0], mean_train_y[:,0]-mean_train_std[:,0], mean_train_y[:,0]+mean_train_std[:,0], alpha=0.2, edgecolor='gray', facecolor='cyan')\n",
    "plt.axvspan(35000,end_of_series,alpha=0.3,color='gray')"
   ]
  },
  {
   "cell_type": "code",
   "execution_count": 24,
   "metadata": {},
   "outputs": [
    {
     "name": "stdout",
     "output_type": "stream",
     "text": [
      "Optimization restart 1/5, f = 3790.1195640654046\n",
      "Optimization restart 2/5, f = 4499.073392966136\n",
      "Optimization restart 3/5, f = 4499.073392966137\n",
      "Optimization restart 4/5, f = 4499.073392966136\n",
      "Optimization restart 5/5, f = 4499.073392966136\n"
     ]
    },
    {
     "data": {
      "text/plain": [
       "[<paramz.optimization.optimization.opt_lbfgsb at 0x7f8d50434780>,\n",
       " <paramz.optimization.optimization.opt_lbfgsb at 0x7f8d51e535c0>,\n",
       " <paramz.optimization.optimization.opt_lbfgsb at 0x7f8d50434ba8>,\n",
       " <paramz.optimization.optimization.opt_lbfgsb at 0x7f8d50434c18>,\n",
       " <paramz.optimization.optimization.opt_lbfgsb at 0x7f8d50434be0>]"
      ]
     },
     "execution_count": 24,
     "metadata": {},
     "output_type": "execute_result"
    }
   ],
   "source": [
    "# learn the length scale and variance parameters of GP from data\n",
    "m.optimize_restarts(num_restarts = 5)"
   ]
  },
  {
   "cell_type": "code",
   "execution_count": 25,
   "metadata": {},
   "outputs": [
    {
     "data": {
      "text/html": [
       "<style type=\"text/css\">\n",
       ".pd{\n",
       "    font-family: \"Courier New\", Courier, monospace !important;\n",
       "    width: 100%;\n",
       "    padding: 3px;\n",
       "}\n",
       "</style>\n",
       "\n",
       "<p class=pd>\n",
       "<b>Model</b>: GP regression<br>\n",
       "<b>Objective</b>: 3790.1195640654046<br>\n",
       "<b>Number of Parameters</b>: 3<br>\n",
       "<b>Number of Optimization Parameters</b>: 3<br>\n",
       "<b>Updates</b>: True<br>\n",
       "</p>\n",
       "<style type=\"text/css\">\n",
       ".tg  {font-family:\"Courier New\", Courier, monospace !important;padding:2px 3px;word-break:normal;border-collapse:collapse;border-spacing:0;border-color:#DCDCDC;margin:0px auto;width:100%;}\n",
       ".tg td{font-family:\"Courier New\", Courier, monospace !important;font-weight:bold;color:#444;background-color:#F7FDFA;border-style:solid;border-width:1px;overflow:hidden;word-break:normal;border-color:#DCDCDC;}\n",
       ".tg th{font-family:\"Courier New\", Courier, monospace !important;font-weight:normal;color:#fff;background-color:#26ADE4;border-style:solid;border-width:1px;overflow:hidden;word-break:normal;border-color:#DCDCDC;}\n",
       ".tg .tg-left{font-family:\"Courier New\", Courier, monospace !important;font-weight:normal;text-align:left;}\n",
       ".tg .tg-center{font-family:\"Courier New\", Courier, monospace !important;font-weight:normal;text-align:center;}\n",
       ".tg .tg-right{font-family:\"Courier New\", Courier, monospace !important;font-weight:normal;text-align:right;}\n",
       "</style>\n",
       "<table class=\"tg\"><tr><th><b>  GP_regression.         </b></th><th><b>             value</b></th><th><b>constraints</b></th><th><b>priors</b></th></tr>\n",
       "<tr><td class=tg-left>  rbf.variance           </td><td class=tg-right>41.374582631356695</td><td class=tg-center>    +ve    </td><td class=tg-center>      </td></tr>\n",
       "<tr><td class=tg-left>  rbf.lengthscale        </td><td class=tg-right> 79.48814171435605</td><td class=tg-center>    +ve    </td><td class=tg-center>      </td></tr>\n",
       "<tr><td class=tg-left>  Gaussian_noise.variance</td><td class=tg-right>10.396753951985401</td><td class=tg-center>    +ve    </td><td class=tg-center>      </td></tr>\n",
       "</table>"
      ],
      "text/plain": [
       "<GPy.models.gp_regression.GPRegression at 0x7f8d51d53e10>"
      ]
     },
     "metadata": {},
     "output_type": "display_data"
    }
   ],
   "source": [
    "display(m)"
   ]
  },
  {
   "cell_type": "code",
   "execution_count": 26,
   "metadata": {},
   "outputs": [
    {
     "data": {
      "text/plain": [
       "<matplotlib.patches.Polygon at 0x7f8d51cbd208>"
      ]
     },
     "execution_count": 26,
     "metadata": {},
     "output_type": "execute_result"
    },
    {
     "data": {
      "image/png": "[encoded data removed]",
      "text/plain": [
       "<Figure size 1080x288 with 1 Axes>"
      ]
     },
     "metadata": {
      "needs_background": "light"
     },
     "output_type": "display_data"
    }
   ],
   "source": [
    "plt.figure(figsize=(15,4))\n",
    "#Lets all points between 0 and 40,000  \n",
    "all_x = np.expand_dims(np.linspace(0, 40000, 100), 1)\n",
    "mean_train_y, mean_train_std =  m.predict(all_x)\n",
    "\n",
    "plt.plot(all_x[:,0], mean_train_y[:,0],'-o',color='r',alpha=0.3,markersize=1)\n",
    "plt.fill_between(all_x[:,0], mean_train_y[:,0]-mean_train_std[:,0], mean_train_y[:,0]+mean_train_std[:,0], alpha=0.2, edgecolor='gray', facecolor='cyan')\n",
    "plt.axvspan(35000,end_of_series,alpha=0.3,color='gray')"
   ]
  },
  {
   "cell_type": "markdown",
   "metadata": {},
   "source": [
    "## General Notes\n",
    "- GPs give much better calibrated uncertainties within interpolated points\n",
    "- They give realistic uncertainty in extrapolation points instead of being `blindly` confident\n",
    "\n",
    "- These make them very useful in critical application areas where bad decision can lead to damaging consequences\n",
    "- They are also very good models when doing \n",
    "    - Active learning\n",
    "    - Bayesian Optimization\n",
    "    - etc\n",
    "    \n"
   ]
  },
  {
   "cell_type": "markdown",
   "metadata": {},
   "source": [
    "## References and Additional readings\n",
    "- Damianou, Andreas \"Gaussian process introductory tutorial in Python\" (https://t.co/Edp0UGT7Zr?amp=1): Great tutorials with code from scratch\n",
    "- C. E. Rasmussen & C. K. I. Williams \"Gaussian Processes for Machine Learning\" - Great book on GPs\n",
    "- Lecture note from Lehel Csato (http://www.cs.ubbcluj.ro/~csatol/) \n",
    "- Lecture notes from Neil Lawrence (http://inverseprobability).com\n",
    "\n",
    "### Appreciations\n",
    "- Thanks to Andreas Damianou (http://www.andreasdamianou.com) for letting me used part of his notebooks.\n",
    "- Thanks to Mathew Mayhew for his contributions `Twitter: @DataForager`"
   ]
  },
  {
   "cell_type": "markdown",
   "metadata": {},
   "source": [
    "## Take work work\n",
    "- I have put together some dataset in the /Data folder. Play with them to get a better understanding of these GPs"
   ]
  },
  {
   "cell_type": "markdown",
   "metadata": {},
   "source": [
    "## Thanks!"
   ]
  },
  {
   "cell_type": "code",
   "execution_count": null,
   "metadata": {},
   "outputs": [],
   "source": []
  }
 ],
 "metadata": {
  "celltoolbar": "Slideshow",
  "kernelspec": {
   "display_name": "Python 3",
   "language": "python",
   "name": "python3"
  },
  "language_info": {
   "codemirror_mode": {
    "name": "ipython",
    "version": 3
   },
   "file_extension": ".py",
   "mimetype": "text/x-python",
   "name": "python",
   "nbconvert_exporter": "python",
   "pygments_lexer": "ipython3",
   "version": "3.6.9"
  }
 },
 "nbformat": 4,
 "nbformat_minor": 2
}
